{
 "metadata": {
  "language_info": {
   "codemirror_mode": {
    "name": "ipython",
    "version": 3
   },
   "file_extension": ".py",
   "mimetype": "text/x-python",
   "name": "python",
   "nbconvert_exporter": "python",
   "pygments_lexer": "ipython3",
   "version": "3.7.8-final"
  },
  "orig_nbformat": 2,
  "kernelspec": {
   "name": "python3",
   "display_name": "Python 3"
  }
 },
 "nbformat": 4,
 "nbformat_minor": 2,
 "cells": [
  {
   "cell_type": "code",
   "execution_count": 1,
   "metadata": {},
   "outputs": [],
   "source": [
    "%load_ext autoreload\n",
    "%autoreload 2\n",
    "\n",
    "import pathlib \n",
    "import json\n",
    "import imageio \n",
    "import numpy as np \n",
    "from tqdm import tqdm\n",
    "import pandas as pd "
   ]
  },
  {
   "source": [
    "# Formatting Something-Something-v1"
   ],
   "cell_type": "markdown",
   "metadata": {}
  },
  {
   "cell_type": "code",
   "execution_count": 5,
   "metadata": {},
   "outputs": [
    {
     "output_type": "stream",
     "name": "stdout",
     "text": [
      "Some Labels:  ['Holding something', 'Turning something upside down', 'Turning the camera left while filming something', 'Stacking number of something']\n\nTraining Datafile:\n"
     ]
    },
    {
     "output_type": "execute_result",
     "data": {
      "text/plain": [
       "   FileID                                         Labels\n",
       "0  100218      Something falling like a feather or paper\n",
       "1   48032     Pretending to put something into something\n",
       "2   10433  Letting something roll down a slanted surface\n",
       "3    9426         Lifting something with something on it\n",
       "4   62548            Showing something next to something"
      ],
      "text/html": "<div>\n<style scoped>\n    .dataframe tbody tr th:only-of-type {\n        vertical-align: middle;\n    }\n\n    .dataframe tbody tr th {\n        vertical-align: top;\n    }\n\n    .dataframe thead th {\n        text-align: right;\n    }\n</style>\n<table border=\"1\" class=\"dataframe\">\n  <thead>\n    <tr style=\"text-align: right;\">\n      <th></th>\n      <th>FileID</th>\n      <th>Labels</th>\n    </tr>\n  </thead>\n  <tbody>\n    <tr>\n      <th>0</th>\n      <td>100218</td>\n      <td>Something falling like a feather or paper</td>\n    </tr>\n    <tr>\n      <th>1</th>\n      <td>48032</td>\n      <td>Pretending to put something into something</td>\n    </tr>\n    <tr>\n      <th>2</th>\n      <td>10433</td>\n      <td>Letting something roll down a slanted surface</td>\n    </tr>\n    <tr>\n      <th>3</th>\n      <td>9426</td>\n      <td>Lifting something with something on it</td>\n    </tr>\n    <tr>\n      <th>4</th>\n      <td>62548</td>\n      <td>Showing something next to something</td>\n    </tr>\n  </tbody>\n</table>\n</div>"
     },
     "metadata": {},
     "execution_count": 5
    }
   ],
   "source": [
    "ss_files = pathlib.Path.home()/'Documents/gradschool/thesis/data/something-something/'\n",
    "\n",
    "labels = pd.read_csv(ss_files/'something-something-v1-labels.csv', sep='\\n', header=None)\n",
    "labels = list(labels[0])\n",
    "train = pd.read_csv(ss_files/'something-something-v1-train.csv', delimiter=';', sep='\\n', header=None)\n",
    "val = pd.read_csv(ss_files/'something-something-v1-validation.csv', delimiter=';', sep='\\n', header=None)\n",
    "\n",
    "train.columns = ['FileID', 'Labels']\n",
    "val.columns = ['FileID', 'Labels']\n",
    "print('Some Labels: ', labels[:4])\n",
    "print('\\nTraining Datafile:')\n",
    "train.head()"
   ]
  },
  {
   "cell_type": "code",
   "execution_count": 6,
   "metadata": {},
   "outputs": [
    {
     "output_type": "stream",
     "name": "stderr",
     "text": [
      "86017it [00:07, 11956.51it/s]\n",
      "11522it [00:00, 11886.23it/s]\n"
     ]
    }
   ],
   "source": [
    "datafile_path = pathlib.Path.home()/'Documents/gradschool/thesis/data/tfrecords'\n",
    "datafile_path.mkdir(parents=True, exist_ok=True)\n",
    "\n",
    "for df, name in zip([train, val], ['train.txt', 'val.txt']):\n",
    "    # compute the index of each label \n",
    "    df['label_idx'] = [labels.index(v) for v in df['Labels'].values]\n",
    "\n",
    "    # write to train.txt or val.txt\n",
    "    with open(str(datafile_path/name), 'w') as f: \n",
    "        for _, row in tqdm(df.iterrows()): \n",
    "            line = '{} {}\\n'.format(row['FileID'], row['label_idx'])\n",
    "            f.write(line)"
   ]
  },
  {
   "cell_type": "code",
   "execution_count": 51,
   "metadata": {},
   "outputs": [
    {
     "output_type": "stream",
     "name": "stdout",
     "text": [
      "Example in file (fileID, label):  100218 31\n\n"
     ]
    }
   ],
   "source": [
    "# lets look at an example line in the file \n",
    "with open(str(datafile_path/'train.txt'), 'r') as f: \n",
    "    lines = f.readlines()\n",
    "print('Example in file (fileID, label): ', lines[0])"
   ]
  },
  {
   "cell_type": "code",
   "execution_count": 7,
   "metadata": {},
   "outputs": [],
   "source": [
    "# how we access fileID (when the path in train.txt is not absolute)\n",
    "datafile_prefix = pathlib.Path.home()/'Documents/gradschool/thesis/data'\\\n",
    "        '/something-something/20bn-something-something-v1'\n",
    "\n",
    "# to make sure the paths are correct -- lets access an example:\n",
    "example_fileid = lines[np.random.randint(len(lines))].split(' ')[0]\n",
    "# format using datafile_prefix\n",
    "example_path = datafile_prefix/'{}'.format(example_fileid)\n",
    "print(example_path)"
   ]
  },
  {
   "cell_type": "code",
   "execution_count": 55,
   "metadata": {},
   "outputs": [
    {
     "output_type": "execute_result",
     "data": {
      "text/plain": [
       "[PosixPath('/Users/brennangebotys/Documents/gradschool/thesis/data/something-something/20bn-something-something-v1/59804/00046.jpg'),\n",
       " PosixPath('/Users/brennangebotys/Documents/gradschool/thesis/data/something-something/20bn-something-something-v1/59804/00052.jpg'),\n",
       " PosixPath('/Users/brennangebotys/Documents/gradschool/thesis/data/something-something/20bn-something-something-v1/59804/00053.jpg'),\n",
       " PosixPath('/Users/brennangebotys/Documents/gradschool/thesis/data/something-something/20bn-something-something-v1/59804/00047.jpg'),\n",
       " PosixPath('/Users/brennangebotys/Documents/gradschool/thesis/data/something-something/20bn-something-something-v1/59804/00051.jpg')]"
      ]
     },
     "metadata": {},
     "execution_count": 55
    }
   ],
   "source": [
    "# success! \n",
    "list(example_path.iterdir())[:5]"
   ]
  },
  {
   "source": [
    "# Writing TFRecords"
   ],
   "cell_type": "markdown",
   "metadata": {}
  },
  {
   "cell_type": "code",
   "execution_count": 9,
   "metadata": {},
   "outputs": [],
   "source": [
    "from tfrecords import TFRecords4Video\n",
    "# we will save the files in the same place as our datafiles\n",
    "tfrecords_save_path = datafile_path\n",
    "# datafile_file and datafile_prefix were already created and checked \n",
    "tfrv = TFRecords4Video(tfrecords_save_path, datafile_path, datafile_prefix, 'images')\n",
    "\n",
    "## run this line to create all the tf records for each split \n",
    "# tfrv.create_tfrecords()"
   ]
  },
  {
   "source": [
    "# Loading TFRecords"
   ],
   "cell_type": "markdown",
   "metadata": {}
  },
  {
   "cell_type": "code",
   "execution_count": 12,
   "metadata": {},
   "outputs": [
    {
     "output_type": "execute_result",
     "data": {
      "text/plain": [
       "['/Users/brennangebotys/Documents/gradschool/thesis/data/tfrecords/train/shard0.tfrecord']"
      ]
     },
     "metadata": {},
     "execution_count": 12
    }
   ],
   "source": [
    "# get a str(path) to every training shard \n",
    "train_path = tfrecords_save_path/'train/'\n",
    "train_shards = [str(path) for path in train_path.iterdir() if '.tfrecord' == path.suffix]\n",
    "train_shards"
   ]
  },
  {
   "cell_type": "code",
   "execution_count": 25,
   "metadata": {},
   "outputs": [
    {
     "output_type": "stream",
     "name": "stdout",
     "text": [
      "Example Data:\n(1, 36, 100, 132, 3) [52] [b'/Users/brennangebotys/Documents/gradschool/thesis/data/something-something/20bn-something-something-v1/27684']\n"
     ]
    }
   ],
   "source": [
    "import tensorflow.compat.v1 as tf \n",
    "from tfrecords import parse_example\n",
    "\n",
    "# create dataset with train shards\n",
    "# customize adding: .map(your_tf_function) after '.map(parse_example)\\'\n",
    "# Note: sharding allows us to shuffle the data efficiently\n",
    "dataset = tf.data.TFRecordDataset(train_shards)\\\n",
    "    .map(parse_example)\\\n",
    "    .shuffle(100)\\\n",
    "    .batch(1)\n",
    "# Note: for batchsize > 1 you'll have to resize the images all to the same size \n",
    "# i.e .map(your_resize_function)\n",
    "\n",
    "iterator = dataset.make_one_shot_iterator()\n",
    "next_element = iterator.get_next()\n",
    "\n",
    "with tf.Session() as sess: \n",
    "    video_data, labels, filenames = sess.run(next_element)\n",
    "    \n",
    "    print('Example Data:')\n",
    "    print(video_data.shape, labels, filenames)"
   ]
  },
  {
   "cell_type": "code",
   "execution_count": null,
   "metadata": {},
   "outputs": [],
   "source": []
  }
 ]
}